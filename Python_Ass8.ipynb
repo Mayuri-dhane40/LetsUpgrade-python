{
  "nbformat": 4,
  "nbformat_minor": 0,
  "metadata": {
    "colab": {
      "name": "Python_Ass8.ipynb",
      "provenance": [],
      "authorship_tag": "ABX9TyPG8eyPa1wLqKJ0eZuuzZIX",
      "include_colab_link": true
    },
    "kernelspec": {
      "name": "python3",
      "display_name": "Python 3"
    }
  },
  "cells": [
    {
      "cell_type": "markdown",
      "metadata": {
        "id": "view-in-github",
        "colab_type": "text"
      },
      "source": [
        "<a href=\"https://colab.research.google.com/github/Mayuri-dhane40/LetsUpgrade-python/blob/master/Python_Ass8.ipynb\" target=\"_parent\"><img src=\"https://colab.research.google.com/assets/colab-badge.svg\" alt=\"Open In Colab\"/></a>"
      ]
    },
    {
      "cell_type": "markdown",
      "metadata": {
        "id": "vZ7rCj_GU5i9",
        "colab_type": "text"
      },
      "source": [
        " Assignment Day 8"
      ]
    },
    {
      "cell_type": "markdown",
      "metadata": {
        "id": "ji62OPiAU8BQ",
        "colab_type": "text"
      },
      "source": [
        "Q. 1"
      ]
    },
    {
      "cell_type": "code",
      "metadata": {
        "id": "CdwZbfBhVzkK",
        "colab_type": "code",
        "colab": {}
      },
      "source": [
        " def recur_cache(func):\n",
        "    cache = {}\n",
        "    def wrapper(arg):\n",
        "        if arg not in cache:\n",
        "            cache[arg] = func(arg)\n",
        "        return cache[arg]\n",
        "    return wrapper\n",
        " \n",
        " \n",
        "@recur_cache\n",
        "def fib(N):\n",
        "    \n",
        "    if N < 0 or N == None : \n",
        "           return None\n",
        "    if N < 2: \n",
        "           return N\n",
        "    else:\n",
        "        return fib(N-1) + fib(N-2)"
      ],
      "execution_count": 13,
      "outputs": []
    },
    {
      "cell_type": "code",
      "metadata": {
        "id": "nTYl3tY5Wodr",
        "colab_type": "code",
        "colab": {
          "base_uri": "https://localhost:8080/",
          "height": 34
        },
        "outputId": "afd96052-73b9-4afd-a0cf-ebf69657a141"
      },
      "source": [
        "fib(3)"
      ],
      "execution_count": null,
      "outputs": [
        {
          "output_type": "execute_result",
          "data": {
            "text/plain": [
              "2"
            ]
          },
          "metadata": {
            "tags": []
          },
          "execution_count": 4
        }
      ]
    },
    {
      "cell_type": "markdown",
      "metadata": {
        "id": "hplbI1J-XKff",
        "colab_type": "text"
      },
      "source": [
        "Q.2"
      ]
    },
    {
      "cell_type": "code",
      "metadata": {
        "id": "39evZdU0ZUCs",
        "colab_type": "code",
        "colab": {}
      },
      "source": [
        "file=open(\"mayuri.txt\",\"w\") \n",
        "file.write(\"Hi, i am mayuri dhane learning python\") \n",
        "file.close()"
      ],
      "execution_count": null,
      "outputs": []
    },
    {
      "cell_type": "code",
      "metadata": {
        "id": "T8JSmkJBaGTB",
        "colab_type": "code",
        "colab": {
          "base_uri": "https://localhost:8080/",
          "height": 54
        },
        "outputId": "030b4fbe-a167-4864-c92a-da78fb9f2213"
      },
      "source": [
        "file = open(\"mayuri.txt\",\"r\")\n",
        "fileData = file.read()\n",
        "print(fileData)\n",
        "file.close()"
      ],
      "execution_count": null,
      "outputs": [
        {
          "output_type": "stream",
          "text": [
            "Hi, i am mayuri dhane learning python\n"
          ],
          "name": "stdout"
        }
      ]
    },
    {
      "cell_type": "code",
      "metadata": {
        "id": "yWvnNXQrZc3v",
        "colab_type": "code",
        "colab": {
          "base_uri": "https://localhost:8080/",
          "height": 34
        },
        "outputId": "cabfeecf-c04c-435a-bc9c-3c591a04cab0"
      },
      "source": [
        "try :\n",
        "    file = open(\"mayuri.txt\",\"r\")\n",
        "    file.write(\"HI\")\n",
        "    file.close()\n",
        "except Exception as e:\n",
        "    print(e)"
      ],
      "execution_count": null,
      "outputs": [
        {
          "output_type": "stream",
          "text": [
            "not writable\n"
          ],
          "name": "stdout"
        }
      ]
    }
  ]
}