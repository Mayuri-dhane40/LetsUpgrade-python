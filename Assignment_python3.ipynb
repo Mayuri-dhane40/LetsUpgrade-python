{
  "nbformat": 4,
  "nbformat_minor": 0,
  "metadata": {
    "colab": {
      "name": "Assignment_python3",
      "provenance": [],
      "authorship_tag": "ABX9TyOIU/KjAhL0ZhNfyKeS34Pm",
      "include_colab_link": true
    },
    "kernelspec": {
      "name": "python3",
      "display_name": "Python 3"
    }
  },
  "cells": [
    {
      "cell_type": "markdown",
      "metadata": {
        "id": "view-in-github",
        "colab_type": "text"
      },
      "source": [
        "<a href=\"https://colab.research.google.com/github/Mayuri-dhane40/LetsUpgrade-python/blob/master/Assignment_python3.ipynb\" target=\"_parent\"><img src=\"https://colab.research.google.com/assets/colab-badge.svg\" alt=\"Open In Colab\"/></a>"
      ]
    },
    {
      "cell_type": "markdown",
      "metadata": {
        "id": "5Aw0eAM4IsUQ",
        "colab_type": "text"
      },
      "source": [
        "Assignment Day 3"
      ]
    },
    {
      "cell_type": "markdown",
      "metadata": {
        "id": "J6572_eLK0Vs",
        "colab_type": "text"
      },
      "source": [
        "Q.1:"
      ]
    },
    {
      "cell_type": "code",
      "metadata": {
        "id": "4jPHNniEK2Qj",
        "colab_type": "code",
        "colab": {
          "base_uri": "https://localhost:8080/",
          "height": 51
        },
        "outputId": "0d4bdce6-1453-4c23-de06-ac59e2724612"
      },
      "source": [
        "num = input(\"Enter altitude - \")\n",
        "num = int(num)\n",
        "if num<=1000:\n",
        "   print(\"Safe to Land\")  \n",
        "elif 5000>num>1000:\n",
        "   print(\"Bring to 1000\")\n",
        "else:\n",
        "   print(\"Turn around and try later\")"
      ],
      "execution_count": 11,
      "outputs": [
        {
          "output_type": "stream",
          "text": [
            "Enter altitude - 1000\n",
            "Safe to Land\n"
          ],
          "name": "stdout"
        }
      ]
    },
    {
      "cell_type": "code",
      "metadata": {
        "id": "U97WFsAgUTVK",
        "colab_type": "code",
        "colab": {
          "base_uri": "https://localhost:8080/",
          "height": 51
        },
        "outputId": "33f8325a-9908-431e-926f-a75221c662f9"
      },
      "source": [
        "num = input(\"Enter altitude - \")\n",
        "num = int(num)\n",
        "if num<=1000:\n",
        "   print(\"Safe to Land\")  \n",
        "elif 5000>num>1000:\n",
        "   print(\"Bring down to 1000\")\n",
        "else:\n",
        "   print(\"Turn around and try later\")"
      ],
      "execution_count": 13,
      "outputs": [
        {
          "output_type": "stream",
          "text": [
            "Enter altitude - 4500\n",
            "Bring down to 1000\n"
          ],
          "name": "stdout"
        }
      ]
    },
    {
      "cell_type": "code",
      "metadata": {
        "id": "_AN3FzPUUlUS",
        "colab_type": "code",
        "colab": {
          "base_uri": "https://localhost:8080/",
          "height": 51
        },
        "outputId": "3677fc1d-afe2-4d03-c7b6-aa9734306c15"
      },
      "source": [
        " num = input(\"Enter altitude - \")\n",
        "num = int(num)\n",
        "if num<=1000:\n",
        "   print(\"Safe to Land\")  \n",
        "elif 5000>num>1000:\n",
        "   print(\"Bring down to 1000\")\n",
        "else:\n",
        "   print(\"Turn around and try later\")"
      ],
      "execution_count": 14,
      "outputs": [
        {
          "output_type": "stream",
          "text": [
            "Enter altitude - 6500\n",
            "Turn around and try later\n"
          ],
          "name": "stdout"
        }
      ]
    },
    {
      "cell_type": "markdown",
      "metadata": {
        "id": "XG-yJPQYI0uS",
        "colab_type": "text"
      },
      "source": [
        "Q.2:"
      ]
    },
    {
      "cell_type": "code",
      "metadata": {
        "id": "dYC5AvvVJ36l",
        "colab_type": "code",
        "colab": {
          "base_uri": "https://localhost:8080/",
          "height": 851
        },
        "outputId": "424eab08-36bd-48f2-fd34-68d88bf637eb"
      },
      "source": [
        " \n",
        "lower = 1\n",
        "upper = 200\n",
        " \n",
        "print(\"Prime numbers between\", lower, \"and\", upper, \"are:\")\n",
        " \n",
        "for num in range(lower, upper + 1):\n",
        "  \n",
        "   if num > 1:\n",
        "       for i in range(2, num):\n",
        "           if (num % i) == 0:\n",
        "               break\n",
        "       else:\n",
        "           print(num)"
      ],
      "execution_count": null,
      "outputs": [
        {
          "output_type": "stream",
          "text": [
            "Prime numbers between 1 and 200 are:\n",
            "2\n",
            "3\n",
            "5\n",
            "7\n",
            "11\n",
            "13\n",
            "17\n",
            "19\n",
            "23\n",
            "29\n",
            "31\n",
            "37\n",
            "41\n",
            "43\n",
            "47\n",
            "53\n",
            "59\n",
            "61\n",
            "67\n",
            "71\n",
            "73\n",
            "79\n",
            "83\n",
            "89\n",
            "97\n",
            "101\n",
            "103\n",
            "107\n",
            "109\n",
            "113\n",
            "127\n",
            "131\n",
            "137\n",
            "139\n",
            "149\n",
            "151\n",
            "157\n",
            "163\n",
            "167\n",
            "173\n",
            "179\n",
            "181\n",
            "191\n",
            "193\n",
            "197\n",
            "199\n"
          ],
          "name": "stdout"
        }
      ]
    }
  ]
}