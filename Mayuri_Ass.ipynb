{
  "nbformat": 4,
  "nbformat_minor": 0,
  "metadata": {
    "colab": {
      "name": "Mayuri-Ass",
      "provenance": [],
      "collapsed_sections": [],
      "authorship_tag": "ABX9TyMucu1dpMmEKKhPeJuryesG",
      "include_colab_link": true
    },
    "kernelspec": {
      "name": "python3",
      "display_name": "Python 3"
    }
  },
  "cells": [
    {
      "cell_type": "markdown",
      "metadata": {
        "id": "view-in-github",
        "colab_type": "text"
      },
      "source": [
        "<a href=\"https://colab.research.google.com/github/Mayuri-dhane40/LetsUpgrade-python/blob/master/Mayuri_Ass.ipynb\" target=\"_parent\"><img src=\"https://colab.research.google.com/assets/colab-badge.svg\" alt=\"Open In Colab\"/></a>"
      ]
    },
    {
      "cell_type": "markdown",
      "metadata": {
        "id": "tJGxre-houEM",
        "colab_type": "text"
      },
      "source": [
        "Assignment Day 4"
      ]
    },
    {
      "cell_type": "code",
      "metadata": {
        "id": "ZuXVEIOxozq1",
        "colab_type": "code",
        "colab": {
          "base_uri": "https://localhost:8080/",
          "height": 34
        },
        "outputId": "8a9a147e-a29d-4789-faf3-ab1f696802b4"
      },
      "source": [
        "upper = 702648265\n",
        "lowers=1042000\n",
        "for num in range (lowers , upper + 1):\n",
        "    o= len (str(num))\n",
        "    sum = 0\n",
        "    temp = num\n",
        "    while temp > 0:\n",
        "        x = temp % 10\n",
        "        sum += x ** o\n",
        "        temp //= 10\n",
        " \n",
        "    if num == sum:\n",
        "        print(num)\n",
        "        break"
      ],
      "execution_count": 1,
      "outputs": [
        {
          "output_type": "stream",
          "text": [
            "1741725\n"
          ],
          "name": "stdout"
        }
      ]
    }
  ]
}