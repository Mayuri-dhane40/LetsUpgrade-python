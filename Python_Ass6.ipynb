{
  "nbformat": 4,
  "nbformat_minor": 0,
  "metadata": {
    "colab": {
      "name": "Python_Ass6.ipynb",
      "provenance": [],
      "collapsed_sections": [],
      "authorship_tag": "ABX9TyPCvEv6E7NzHTTT4URljWiU",
      "include_colab_link": true
    },
    "kernelspec": {
      "name": "python3",
      "display_name": "Python 3"
    }
  },
  "cells": [
    {
      "cell_type": "markdown",
      "metadata": {
        "id": "view-in-github",
        "colab_type": "text"
      },
      "source": [
        "<a href=\"https://colab.research.google.com/github/Mayuri-dhane40/LetsUpgrade-python/blob/master/Python_Ass6.ipynb\" target=\"_parent\"><img src=\"https://colab.research.google.com/assets/colab-badge.svg\" alt=\"Open In Colab\"/></a>"
      ]
    },
    {
      "cell_type": "markdown",
      "metadata": {
        "id": "ghDKbV8I0BWk",
        "colab_type": "text"
      },
      "source": [
        "Assignment Day 6"
      ]
    },
    {
      "cell_type": "markdown",
      "metadata": {
        "id": "er-OhgBW0K6s",
        "colab_type": "text"
      },
      "source": [
        "Q. 1"
      ]
    },
    {
      "cell_type": "code",
      "metadata": {
        "id": "oXSDoeFAjYQ3",
        "colab_type": "code",
        "colab": {}
      },
      "source": [
        " \n",
        "class Bank_Account: \n",
        " \n",
        "    def __init__(self): \n",
        " \n",
        "        self.balance=0\n",
        " \n",
        "        print(\"Hello!!! Welcome to the Deposit & Withdrawal Machine\") \n",
        " \n",
        "  \n",
        " \n",
        "    def deposit(self): \n",
        " \n",
        "        amount=float(input(\"Enter amount to be Deposited: \")) \n",
        " \n",
        "        self.balance += amount \n",
        " \n",
        "        print(\"\\n Amount Deposited:\",amount) \n",
        " \n",
        "  \n",
        " \n",
        "    def withdraw(self): \n",
        " \n",
        "        amount = float(input(\"Enter amount to be Withdrawn: \")) \n",
        " \n",
        "        if self.balance>=amount: \n",
        " \n",
        "            self.balance-=amount \n",
        " \n",
        "            print(\"\\n You Withdrew:\", amount) \n",
        " \n",
        "        else: \n",
        " \n",
        "            print(\"\\n Insufficient balance  \") \n",
        " \n",
        "  \n",
        " \n",
        "    def display(self): \n",
        " \n",
        "        print(\"\\n Net Available Balance=\",self.balance)"
      ],
      "execution_count": null,
      "outputs": []
    },
    {
      "cell_type": "code",
      "metadata": {
        "id": "7MP3aGpkjcC-",
        "colab_type": "code",
        "colab": {
          "base_uri": "https://localhost:8080/",
          "height": 54
        },
        "outputId": "ac51fe80-534a-4317-9a0a-40004628aa69"
      },
      "source": [
        "m=Bank_Account()"
      ],
      "execution_count": null,
      "outputs": [
        {
          "output_type": "stream",
          "text": [
            "Hello!!! Welcome to the Deposit & Withdrawal Machine\n"
          ],
          "name": "stdout"
        }
      ]
    },
    {
      "cell_type": "code",
      "metadata": {
        "id": "PrRh1gP3jr5T",
        "colab_type": "code",
        "colab": {
          "base_uri": "https://localhost:8080/",
          "height": 175
        },
        "outputId": "0f28eb8f-7a34-43e4-c972-e3d4c8a2c77f"
      },
      "source": [
        "m.deposit() \n",
        "m.withdraw() \n",
        "m.display()"
      ],
      "execution_count": null,
      "outputs": [
        {
          "output_type": "stream",
          "text": [
            "Enter amount to be Deposited: 2000\n",
            "\n",
            " Amount Deposited: 2000.0\n",
            "Enter amount to be Withdrawn: 500\n",
            "\n",
            " You Withdrew: 500.0\n",
            "\n",
            " Net Available Balance= 1500.0\n"
          ],
          "name": "stdout"
        }
      ]
    },
    {
      "cell_type": "markdown",
      "metadata": {
        "id": "XEfJWR_rllAa",
        "colab_type": "text"
      },
      "source": [
        "Q.2"
      ]
    },
    {
      "cell_type": "code",
      "metadata": {
        "id": "m9mczXxxCJ-K",
        "colab_type": "code",
        "colab": {
          "base_uri": "https://localhost:8080/",
          "height": 550
        },
        "outputId": "c38b7e2e-d70b-45f2-82c6-56ce8cac4fde"
      },
      "source": [
        "class cone:\n",
        "    def __init__(self, radius, height):\n",
        "        self.radius = radius\n",
        "        self.height=height\n",
        " \n",
        "    def volume(self):\n",
        "        return (1/3)* 3.14 *self.radius *self.radius * self.height\n",
        "    def area(self):\n",
        "        return 3.14*self.radius(self.radius+math.sqrt(self.height*self.height +self.radius*self.radius)) \n",
        " \n",
        "x=cone(3,5)\n",
        "print(x.volume())\n",
        "print(x.area())"
      ],
      "execution_count": 41,
      "outputs": [
        {
          "output_type": "stream",
          "text": [
            "47.099999999999994\n"
          ],
          "name": "stdout"
        },
        {
          "output_type": "error",
          "ename": "TypeError",
          "evalue": "ignored",
          "traceback": [
            "\u001b[0;31m---------------------------------------------------------------------------\u001b[0m",
            "\u001b[0;31mTypeError\u001b[0m                                 Traceback (most recent call last)",
            "\u001b[0;32m<ipython-input-41-6f4c37bd1712>\u001b[0m in \u001b[0;36m<module>\u001b[0;34m()\u001b[0m\n\u001b[1;32m     11\u001b[0m \u001b[0mx\u001b[0m\u001b[0;34m=\u001b[0m\u001b[0mcone\u001b[0m\u001b[0;34m(\u001b[0m\u001b[0;36m3\u001b[0m\u001b[0;34m,\u001b[0m\u001b[0;36m5\u001b[0m\u001b[0;34m)\u001b[0m\u001b[0;34m\u001b[0m\u001b[0;34m\u001b[0m\u001b[0m\n\u001b[1;32m     12\u001b[0m \u001b[0mprint\u001b[0m\u001b[0;34m(\u001b[0m\u001b[0mx\u001b[0m\u001b[0;34m.\u001b[0m\u001b[0mvolume\u001b[0m\u001b[0;34m(\u001b[0m\u001b[0;34m)\u001b[0m\u001b[0;34m)\u001b[0m\u001b[0;34m\u001b[0m\u001b[0;34m\u001b[0m\u001b[0m\n\u001b[0;32m---> 13\u001b[0;31m \u001b[0mprint\u001b[0m\u001b[0;34m(\u001b[0m\u001b[0mx\u001b[0m\u001b[0;34m.\u001b[0m\u001b[0marea\u001b[0m\u001b[0;34m(\u001b[0m\u001b[0;34m)\u001b[0m\u001b[0;34m)\u001b[0m\u001b[0;34m\u001b[0m\u001b[0;34m\u001b[0m\u001b[0m\n\u001b[0m",
            "\u001b[0;32m<ipython-input-41-6f4c37bd1712>\u001b[0m in \u001b[0;36marea\u001b[0;34m(self)\u001b[0m\n\u001b[1;32m      7\u001b[0m         \u001b[0;32mreturn\u001b[0m \u001b[0;34m(\u001b[0m\u001b[0;36m1\u001b[0m\u001b[0;34m/\u001b[0m\u001b[0;36m3\u001b[0m\u001b[0;34m)\u001b[0m\u001b[0;34m*\u001b[0m \u001b[0;36m3.14\u001b[0m \u001b[0;34m*\u001b[0m\u001b[0mself\u001b[0m\u001b[0;34m.\u001b[0m\u001b[0mradius\u001b[0m \u001b[0;34m*\u001b[0m\u001b[0mself\u001b[0m\u001b[0;34m.\u001b[0m\u001b[0mradius\u001b[0m \u001b[0;34m*\u001b[0m \u001b[0mself\u001b[0m\u001b[0;34m.\u001b[0m\u001b[0mheight\u001b[0m\u001b[0;34m\u001b[0m\u001b[0;34m\u001b[0m\u001b[0m\n\u001b[1;32m      8\u001b[0m     \u001b[0;32mdef\u001b[0m \u001b[0marea\u001b[0m\u001b[0;34m(\u001b[0m\u001b[0mself\u001b[0m\u001b[0;34m)\u001b[0m\u001b[0;34m:\u001b[0m\u001b[0;34m\u001b[0m\u001b[0;34m\u001b[0m\u001b[0m\n\u001b[0;32m----> 9\u001b[0;31m         \u001b[0;32mreturn\u001b[0m \u001b[0;36m3.14\u001b[0m\u001b[0;34m*\u001b[0m\u001b[0mself\u001b[0m\u001b[0;34m.\u001b[0m\u001b[0mradius\u001b[0m\u001b[0;34m(\u001b[0m\u001b[0mself\u001b[0m\u001b[0;34m.\u001b[0m\u001b[0mradius\u001b[0m\u001b[0;34m+\u001b[0m\u001b[0mmath\u001b[0m\u001b[0;34m.\u001b[0m\u001b[0msqrt\u001b[0m\u001b[0;34m(\u001b[0m\u001b[0mself\u001b[0m\u001b[0;34m.\u001b[0m\u001b[0mheight\u001b[0m\u001b[0;34m*\u001b[0m\u001b[0mself\u001b[0m\u001b[0;34m.\u001b[0m\u001b[0mheight\u001b[0m \u001b[0;34m+\u001b[0m\u001b[0mself\u001b[0m\u001b[0;34m.\u001b[0m\u001b[0mradius\u001b[0m\u001b[0;34m*\u001b[0m\u001b[0mself\u001b[0m\u001b[0;34m.\u001b[0m\u001b[0mradius\u001b[0m\u001b[0;34m)\u001b[0m\u001b[0;34m)\u001b[0m\u001b[0;34m\u001b[0m\u001b[0;34m\u001b[0m\u001b[0m\n\u001b[0m\u001b[1;32m     10\u001b[0m \u001b[0;34m\u001b[0m\u001b[0m\n\u001b[1;32m     11\u001b[0m \u001b[0mx\u001b[0m\u001b[0;34m=\u001b[0m\u001b[0mcone\u001b[0m\u001b[0;34m(\u001b[0m\u001b[0;36m3\u001b[0m\u001b[0;34m,\u001b[0m\u001b[0;36m5\u001b[0m\u001b[0;34m)\u001b[0m\u001b[0;34m\u001b[0m\u001b[0;34m\u001b[0m\u001b[0m\n",
            "\u001b[0;31mTypeError\u001b[0m: 'int' object is not callable"
          ]
        }
      ]
    }
  ]
}