{
  "nbformat": 4,
  "nbformat_minor": 0,
  "metadata": {
    "colab": {
      "name": "Assignment .ipynb",
      "provenance": [],
      "collapsed_sections": [],
      "authorship_tag": "ABX9TyOXKiafqEIPtDJIEKt51ngl",
      "include_colab_link": true
    },
    "kernelspec": {
      "name": "python3",
      "display_name": "Python 3"
    }
  },
  "cells": [
    {
      "cell_type": "markdown",
      "metadata": {
        "id": "view-in-github",
        "colab_type": "text"
      },
      "source": [
        "<a href=\"https://colab.research.google.com/github/Mayuri-dhane40/LetsUpgrade-python/blob/master/Assignment_.ipynb\" target=\"_parent\"><img src=\"https://colab.research.google.com/assets/colab-badge.svg\" alt=\"Open In Colab\"/></a>"
      ]
    },
    {
      "cell_type": "markdown",
      "metadata": {
        "id": "ghDKbV8I0BWk",
        "colab_type": "text"
      },
      "source": [
        "Assignment Day 6"
      ]
    },
    {
      "cell_type": "markdown",
      "metadata": {
        "id": "er-OhgBW0K6s",
        "colab_type": "text"
      },
      "source": [
        "Q. 1"
      ]
    },
    {
      "cell_type": "code",
      "metadata": {
        "id": "oXSDoeFAjYQ3",
        "colab_type": "code",
        "colab": {}
      },
      "source": [
        " \n",
        "class Bank_Account: \n",
        " \n",
        "    def __init__(self): \n",
        " \n",
        "        self.balance=0\n",
        " \n",
        "        print(\"Hello!!! Welcome to the Deposit & Withdrawal Machine\") \n",
        " \n",
        "  \n",
        " \n",
        "    def deposit(self): \n",
        " \n",
        "        amount=float(input(\"Enter amount to be Deposited: \")) \n",
        " \n",
        "        self.balance += amount \n",
        " \n",
        "        print(\"\\n Amount Deposited:\",amount) \n",
        " \n",
        "  \n",
        " \n",
        "    def withdraw(self): \n",
        " \n",
        "        amount = float(input(\"Enter amount to be Withdrawn: \")) \n",
        " \n",
        "        if self.balance>=amount: \n",
        " \n",
        "            self.balance-=amount \n",
        " \n",
        "            print(\"\\n You Withdrew:\", amount) \n",
        " \n",
        "        else: \n",
        " \n",
        "            print(\"\\n Insufficient balance  \") \n",
        " \n",
        "  \n",
        " \n",
        "    def display(self): \n",
        " \n",
        "        print(\"\\n Net Available Balance=\",self.balance)"
      ],
      "execution_count": null,
      "outputs": []
    },
    {
      "cell_type": "code",
      "metadata": {
        "id": "7MP3aGpkjcC-",
        "colab_type": "code",
        "colab": {
          "base_uri": "https://localhost:8080/",
          "height": 54
        },
        "outputId": "ac51fe80-534a-4317-9a0a-40004628aa69"
      },
      "source": [
        "m=Bank_Account()"
      ],
      "execution_count": null,
      "outputs": [
        {
          "output_type": "stream",
          "text": [
            "Hello!!! Welcome to the Deposit & Withdrawal Machine\n"
          ],
          "name": "stdout"
        }
      ]
    },
    {
      "cell_type": "code",
      "metadata": {
        "id": "PrRh1gP3jr5T",
        "colab_type": "code",
        "colab": {
          "base_uri": "https://localhost:8080/",
          "height": 175
        },
        "outputId": "0f28eb8f-7a34-43e4-c972-e3d4c8a2c77f"
      },
      "source": [
        "m.deposit() \n",
        "m.withdraw() \n",
        "m.display()"
      ],
      "execution_count": null,
      "outputs": [
        {
          "output_type": "stream",
          "text": [
            "Enter amount to be Deposited: 2000\n",
            "\n",
            " Amount Deposited: 2000.0\n",
            "Enter amount to be Withdrawn: 500\n",
            "\n",
            " You Withdrew: 500.0\n",
            "\n",
            " Net Available Balance= 1500.0\n"
          ],
          "name": "stdout"
        }
      ]
    },
    {
      "cell_type": "markdown",
      "metadata": {
        "id": "XEfJWR_rllAa",
        "colab_type": "text"
      },
      "source": [
        "Q.2"
      ]
    },
    {
      "cell_type": "code",
      "metadata": {
        "id": "5AGVFa0ALyPZ",
        "colab_type": "code",
        "colab": {
          "base_uri": "https://localhost:8080/",
          "height": 51
        },
        "outputId": "ce14199d-e465-4199-ccb8-90c32b8ed946"
      },
      "source": [
        " \n",
        "import math\n",
        "class cone():\n",
        "    def __init__(self, r, h):\n",
        "        self.radius = r\n",
        "        self.height= h\n",
        "         \n",
        "    def area(self):\n",
        "        return 3.14*self.radius*(self.radius+math.sqrt(self.height*self.height +self.radius*self.radius))\n",
        "    \n",
        "    def volume(self):\n",
        "        return (1/3)* 3.14 *self.radius *self.radius * self.height\n",
        " \n",
        "Newcone = cone(2,3)\n",
        "print(Newcone.area())\n",
        "print(Newcone.volume())"
      ],
      "execution_count": 10,
      "outputs": [
        {
          "output_type": "stream",
          "text": [
            "35.20286200991386\n",
            "12.559999999999999\n"
          ],
          "name": "stdout"
        }
      ]
    }
  ]
}